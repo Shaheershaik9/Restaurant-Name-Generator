{
 "cells": [
  {
   "cell_type": "code",
   "execution_count": 4,
   "id": "91baf8ad",
   "metadata": {},
   "outputs": [],
   "source": [
    "from sceret_key import openai_key\n",
    "import os\n",
    "os.environ['OPENAI_API_KEY']=openai_key"
   ]
  },
  {
   "cell_type": "code",
   "execution_count": 5,
   "id": "74e22095",
   "metadata": {},
   "outputs": [],
   "source": [
    "#We need to install some important modules for our project\n",
    "# pip install langchain\n",
    "# pip install openAI"
   ]
  },
  {
   "cell_type": "code",
   "execution_count": 7,
   "id": "927eaab1",
   "metadata": {},
   "outputs": [
    {
     "name": "stdout",
     "output_type": "stream",
     "text": [
      "Requirement already satisfied: langchain in /Users/sshaik05/anaconda3/lib/python3.11/site-packages (0.0.315)\n",
      "Requirement already satisfied: PyYAML>=5.3 in /Users/sshaik05/anaconda3/lib/python3.11/site-packages (from langchain) (6.0)\n",
      "Requirement already satisfied: SQLAlchemy<3,>=1.4 in /Users/sshaik05/anaconda3/lib/python3.11/site-packages (from langchain) (1.4.39)\n",
      "Requirement already satisfied: aiohttp<4.0.0,>=3.8.3 in /Users/sshaik05/anaconda3/lib/python3.11/site-packages (from langchain) (3.8.3)\n",
      "Requirement already satisfied: anyio<4.0 in /Users/sshaik05/anaconda3/lib/python3.11/site-packages (from langchain) (3.5.0)\n",
      "Requirement already satisfied: dataclasses-json<0.7,>=0.5.7 in /Users/sshaik05/anaconda3/lib/python3.11/site-packages (from langchain) (0.6.1)\n",
      "Requirement already satisfied: jsonpatch<2.0,>=1.33 in /Users/sshaik05/anaconda3/lib/python3.11/site-packages (from langchain) (1.33)\n",
      "Requirement already satisfied: langsmith<0.1.0,>=0.0.43 in /Users/sshaik05/anaconda3/lib/python3.11/site-packages (from langchain) (0.0.44)\n",
      "Requirement already satisfied: numpy<2,>=1 in /Users/sshaik05/anaconda3/lib/python3.11/site-packages (from langchain) (1.24.3)\n",
      "Requirement already satisfied: pydantic<3,>=1 in /Users/sshaik05/anaconda3/lib/python3.11/site-packages (from langchain) (2.4.2)\n",
      "Requirement already satisfied: requests<3,>=2 in /Users/sshaik05/anaconda3/lib/python3.11/site-packages (from langchain) (2.31.0)\n",
      "Requirement already satisfied: tenacity<9.0.0,>=8.1.0 in /Users/sshaik05/anaconda3/lib/python3.11/site-packages (from langchain) (8.2.2)\n",
      "Requirement already satisfied: attrs>=17.3.0 in /Users/sshaik05/anaconda3/lib/python3.11/site-packages (from aiohttp<4.0.0,>=3.8.3->langchain) (22.1.0)\n",
      "Requirement already satisfied: charset-normalizer<3.0,>=2.0 in /Users/sshaik05/anaconda3/lib/python3.11/site-packages (from aiohttp<4.0.0,>=3.8.3->langchain) (2.0.4)\n",
      "Requirement already satisfied: multidict<7.0,>=4.5 in /Users/sshaik05/anaconda3/lib/python3.11/site-packages (from aiohttp<4.0.0,>=3.8.3->langchain) (6.0.2)\n",
      "Requirement already satisfied: async-timeout<5.0,>=4.0.0a3 in /Users/sshaik05/anaconda3/lib/python3.11/site-packages (from aiohttp<4.0.0,>=3.8.3->langchain) (4.0.2)\n",
      "Requirement already satisfied: yarl<2.0,>=1.0 in /Users/sshaik05/anaconda3/lib/python3.11/site-packages (from aiohttp<4.0.0,>=3.8.3->langchain) (1.8.1)\n",
      "Requirement already satisfied: frozenlist>=1.1.1 in /Users/sshaik05/anaconda3/lib/python3.11/site-packages (from aiohttp<4.0.0,>=3.8.3->langchain) (1.3.3)\n",
      "Requirement already satisfied: aiosignal>=1.1.2 in /Users/sshaik05/anaconda3/lib/python3.11/site-packages (from aiohttp<4.0.0,>=3.8.3->langchain) (1.2.0)\n",
      "Requirement already satisfied: idna>=2.8 in /Users/sshaik05/anaconda3/lib/python3.11/site-packages (from anyio<4.0->langchain) (3.4)\n",
      "Requirement already satisfied: sniffio>=1.1 in /Users/sshaik05/anaconda3/lib/python3.11/site-packages (from anyio<4.0->langchain) (1.2.0)\n",
      "Requirement already satisfied: marshmallow<4.0.0,>=3.18.0 in /Users/sshaik05/anaconda3/lib/python3.11/site-packages (from dataclasses-json<0.7,>=0.5.7->langchain) (3.20.1)\n",
      "Requirement already satisfied: typing-inspect<1,>=0.4.0 in /Users/sshaik05/anaconda3/lib/python3.11/site-packages (from dataclasses-json<0.7,>=0.5.7->langchain) (0.9.0)\n",
      "Requirement already satisfied: jsonpointer>=1.9 in /Users/sshaik05/anaconda3/lib/python3.11/site-packages (from jsonpatch<2.0,>=1.33->langchain) (2.1)\n",
      "Requirement already satisfied: annotated-types>=0.4.0 in /Users/sshaik05/anaconda3/lib/python3.11/site-packages (from pydantic<3,>=1->langchain) (0.6.0)\n",
      "Requirement already satisfied: pydantic-core==2.10.1 in /Users/sshaik05/anaconda3/lib/python3.11/site-packages (from pydantic<3,>=1->langchain) (2.10.1)\n",
      "Requirement already satisfied: typing-extensions>=4.6.1 in /Users/sshaik05/anaconda3/lib/python3.11/site-packages (from pydantic<3,>=1->langchain) (4.7.1)\n",
      "Requirement already satisfied: urllib3<3,>=1.21.1 in /Users/sshaik05/anaconda3/lib/python3.11/site-packages (from requests<3,>=2->langchain) (1.26.16)\n",
      "Requirement already satisfied: certifi>=2017.4.17 in /Users/sshaik05/anaconda3/lib/python3.11/site-packages (from requests<3,>=2->langchain) (2023.7.22)\n",
      "Requirement already satisfied: packaging>=17.0 in /Users/sshaik05/anaconda3/lib/python3.11/site-packages (from marshmallow<4.0.0,>=3.18.0->dataclasses-json<0.7,>=0.5.7->langchain) (23.0)\n",
      "Requirement already satisfied: mypy-extensions>=0.3.0 in /Users/sshaik05/anaconda3/lib/python3.11/site-packages (from typing-inspect<1,>=0.4.0->dataclasses-json<0.7,>=0.5.7->langchain) (0.4.3)\n",
      "Note: you may need to restart the kernel to use updated packages.\n"
     ]
    }
   ],
   "source": [
    "pip install langchain"
   ]
  },
  {
   "cell_type": "code",
   "execution_count": 10,
   "id": "075d7cd3",
   "metadata": {},
   "outputs": [],
   "source": [
    "#Now we can use some open source LLM for our project\n",
    "from langchain.llms import OpenAI\n",
    "llm =OpenAI(temperature=0.6)"
   ]
  },
  {
   "cell_type": "code",
   "execution_count": 21,
   "id": "4e0aa7fc",
   "metadata": {},
   "outputs": [
    {
     "data": {
      "text/plain": [
       "' resturant\\n\\nMystical Masala'"
      ]
     },
     "execution_count": 21,
     "metadata": {},
     "output_type": "execute_result"
    }
   ],
   "source": [
    "llm(\"I want to open resturant for Indian food. Suggest a fancy name for this\")"
   ]
  },
  {
   "cell_type": "code",
   "execution_count": 23,
   "id": "9da0e6eb",
   "metadata": {},
   "outputs": [
    {
     "data": {
      "text/plain": [
       "'I want to open resturant for chinese food. Suggest a fancy name for this'"
      ]
     },
     "execution_count": 23,
     "metadata": {},
     "output_type": "execute_result"
    }
   ],
   "source": [
    "from langchain.prompts import PromptTemplate\n",
    "Promat_temp_name = PromptTemplate(\n",
    "    input_variables =['cuisine'],\n",
    "    template = \"I want to open resturant for {cuisine} food. Suggest a fancy name for this\"\n",
    ")\n",
    "Promat_temp_name.format(cuisine='chinese')"
   ]
  },
  {
   "cell_type": "code",
   "execution_count": 24,
   "id": "98e7ca3a",
   "metadata": {},
   "outputs": [
    {
     "data": {
      "text/plain": [
       "\" resturant\\n\\nEmperor's Palace Chinese Cuisine\""
      ]
     },
     "execution_count": 24,
     "metadata": {},
     "output_type": "execute_result"
    }
   ],
   "source": [
    "llm(Promat_temp_name.format(cuisine='chinese'))"
   ]
  },
  {
   "cell_type": "code",
   "execution_count": 26,
   "id": "43230c82",
   "metadata": {},
   "outputs": [
    {
     "data": {
      "text/plain": [
       "\" resturant\\n\\nMaharaja's Palace Cuisine\""
      ]
     },
     "execution_count": 26,
     "metadata": {},
     "output_type": "execute_result"
    }
   ],
   "source": [
    "from langchain.chains import LLMChain\n",
    "chain = LLMChain(llm=llm,prompt=Promat_temp_name)\n",
    "chain.run(\"indian\")"
   ]
  },
  {
   "cell_type": "code",
   "execution_count": 30,
   "id": "5a11d7ef",
   "metadata": {},
   "outputs": [],
   "source": [
    "# Now we can use simple sequential chains to connect with each chain with another chain\n",
    "from langchain.prompts import PromptTemplate\n",
    "from langchain.chains import LLMChain\n",
    "\n",
    "llm =OpenAI(temperature=0.7)\n",
    "\n",
    "Promat_temp_name = PromptTemplate(\n",
    "    input_variables =['cuisine'],\n",
    "    template = \"\"\"I want to open resturant for {cuisine} food. Suggest a fancy name for this\"\"\"\n",
    ")\n",
    "name_chain = LLMChain(llm=llm,prompt=Promat_temp_name)\n",
    "\n",
    "Promat_temp_items = PromptTemplate(\n",
    "    input_variables =['resturant_name'],\n",
    "    template = \"\"\"suggest some menu ietms for {resturant_name}.Return some comma separeted list.\"\"\"\n",
    ")\n",
    "\n",
    "food_items_chain = LLMChain(llm=llm,prompt= Promat_temp_items)"
   ]
  },
  {
   "cell_type": "code",
   "execution_count": 32,
   "id": "20d15c8d",
   "metadata": {},
   "outputs": [
    {
     "name": "stdout",
     "output_type": "stream",
     "text": [
      "\n",
      "\n",
      "Butter Chicken, Palak Paneer, Tandoori Chicken, Samosas, Naan Bread, Biryani, Channa Masala, Aloo Gobi, Chicken Tikka Masala, Dosa, Pulao Rice.\n"
     ]
    }
   ],
   "source": [
    "# lets call simple sequential chain\n",
    "from langchain.chains import SimpleSequentialChain\n",
    "chain = SimpleSequentialChain(chains=[name_chain,food_items_chain])\n",
    "responace=chain.run(\"indian\")\n",
    "print(responace)"
   ]
  },
  {
   "cell_type": "code",
   "execution_count": 36,
   "id": "71e88ee8",
   "metadata": {},
   "outputs": [
    {
     "data": {
      "text/plain": [
       "{'cuisine': 'Arbic',\n",
       " 'resturant_name': ' resturant\\n\\nSaffron Bazaar',\n",
       " 'menu_items': '\\n\\nKashmiri Pulao, Butter Chicken, Dal Makhani, Dahi Bhalla, Tandoori Chicken, Paneer Tikka Masala, Mulligatawny Soup, Samosa, Naan, Biryani, Kheer, Gulab Jamun'}"
      ]
     },
     "execution_count": 36,
     "metadata": {},
     "output_type": "execute_result"
    }
   ],
   "source": [
    "# so we need resturanet name and menu items so for that we can use sequential chains\n",
    "llm =OpenAI(temperature=0.7)\n",
    "\n",
    "Promat_temp_name = PromptTemplate(\n",
    "    input_variables =['cuisine'],\n",
    "    template = \"\"\"I want to open resturant for {cuisine} food. Suggest a fancy name for this\"\"\"\n",
    ")\n",
    "name_chain = LLMChain(llm=llm,prompt=Promat_temp_name,output_key=\"resturant_name\")\n",
    "\n",
    "Promat_temp_items = PromptTemplate(\n",
    "    input_variables =['resturant_name'],\n",
    "    template = \"\"\"suggest some menu ietms for {resturant_name}.Return some comma separeted list.\"\"\"\n",
    ")\n",
    "\n",
    "food_items_chain = LLMChain(llm=llm,prompt= Promat_temp_items,output_key=\"menu_items\")\n",
    "\n",
    "from langchain.chains import SequentialChain\n",
    "\n",
    "chain = SequentialChain(\n",
    "    chains = [name_chain,food_items_chain],\n",
    "    input_variables = ['cuisine'],\n",
    "    output_variables =[\"resturant_name\",\"menu_items\"]\n",
    "    \n",
    ")\n",
    "chain({'cuisine':'Arbic'})"
   ]
  },
  {
   "cell_type": "code",
   "execution_count": null,
   "id": "9ce2db22",
   "metadata": {},
   "outputs": [],
   "source": []
  }
 ],
 "metadata": {
  "kernelspec": {
   "display_name": "Python 3 (ipykernel)",
   "language": "python",
   "name": "python3"
  },
  "language_info": {
   "codemirror_mode": {
    "name": "ipython",
    "version": 3
   },
   "file_extension": ".py",
   "mimetype": "text/x-python",
   "name": "python",
   "nbconvert_exporter": "python",
   "pygments_lexer": "ipython3",
   "version": "3.11.4"
  }
 },
 "nbformat": 4,
 "nbformat_minor": 5
}
